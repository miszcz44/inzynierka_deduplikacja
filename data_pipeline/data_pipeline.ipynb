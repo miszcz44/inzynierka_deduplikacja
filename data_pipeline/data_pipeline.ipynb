{
 "cells": [
  {
   "cell_type": "code",
   "execution_count": 5,
   "id": "initial_id",
   "metadata": {
    "collapsed": true,
    "ExecuteTime": {
     "end_time": "2024-10-05T13:18:56.966880200Z",
     "start_time": "2024-10-05T13:18:56.848509400Z"
    }
   },
   "outputs": [],
   "source": [
    "import pandas as pd\n",
    "import numpy as np\n",
    "import sqlalchemy as _sql\n",
    "import sqlalchemy.ext.declarative as _declarative\n",
    "import sqlalchemy.orm as _orm"
   ]
  },
  {
   "cell_type": "code",
   "execution_count": 6,
   "outputs": [
    {
     "name": "stderr",
     "output_type": "stream",
     "text": [
      "/tmp/ipykernel_12/2114804613.py:4: MovedIn20Warning: The ``declarative_base()`` function is now available as sqlalchemy.orm.declarative_base(). (deprecated since: 2.0) (Background on SQLAlchemy 2.0 at: https://sqlalche.me/e/b8d9)\n",
      "  Base = _declarative.declarative_base()\n"
     ]
    }
   ],
   "source": [
    "# TODO: change to real database\n",
    "# DATABASE_URL = \"postgresql+psycopg2://db_user:password@db:5432/inzynierka_db\"\n",
    "# engine = _sql.create_engine(DATABASE_URL)\n",
    "# SessionLocal = _orm.sessionmaker(autocommit=False, autoflush=False, bind=engine)\n",
    "# Base = _declarative.declarative_base()"
   ],
   "metadata": {
    "collapsed": false,
    "ExecuteTime": {
     "end_time": "2024-10-05T13:18:57.406477Z",
     "start_time": "2024-10-05T13:18:57.395611100Z"
    }
   },
   "id": "ee1714062381b142"
  },
  {
   "cell_type": "markdown",
   "source": [
    "# Data reading"
   ],
   "metadata": {
    "collapsed": false
   },
   "id": "6dbb3a0685941d09"
  },
  {
   "cell_type": "code",
   "execution_count": 12,
   "outputs": [
    {
     "data": {
      "text/plain": "          user_id                   game_name purchase_play  hours_played  0\n0       151603712  The Elder Scrolls V Skyrim      purchase           1.0  0\n1       151603712  The Elder Scrolls V Skyrim          play         273.0  0\n2       151603712                   Fallout 4      purchase           1.0  0\n3       151603712                   Fallout 4          play          87.0  0\n4       151603712                       Spore      purchase           1.0  0\n...           ...                         ...           ...           ... ..\n199995  128470551                 Titan Souls          play           1.5  0\n199996  128470551  Grand Theft Auto Vice City      purchase           1.0  0\n199997  128470551  Grand Theft Auto Vice City          play           1.5  0\n199998  128470551                        RUSH      purchase           1.0  0\n199999  128470551                        RUSH          play           1.4  0\n\n[200000 rows x 5 columns]",
      "text/html": "<div>\n<style scoped>\n    .dataframe tbody tr th:only-of-type {\n        vertical-align: middle;\n    }\n\n    .dataframe tbody tr th {\n        vertical-align: top;\n    }\n\n    .dataframe thead th {\n        text-align: right;\n    }\n</style>\n<table border=\"1\" class=\"dataframe\">\n  <thead>\n    <tr style=\"text-align: right;\">\n      <th></th>\n      <th>user_id</th>\n      <th>game_name</th>\n      <th>purchase_play</th>\n      <th>hours_played</th>\n      <th>0</th>\n    </tr>\n  </thead>\n  <tbody>\n    <tr>\n      <th>0</th>\n      <td>151603712</td>\n      <td>The Elder Scrolls V Skyrim</td>\n      <td>purchase</td>\n      <td>1.0</td>\n      <td>0</td>\n    </tr>\n    <tr>\n      <th>1</th>\n      <td>151603712</td>\n      <td>The Elder Scrolls V Skyrim</td>\n      <td>play</td>\n      <td>273.0</td>\n      <td>0</td>\n    </tr>\n    <tr>\n      <th>2</th>\n      <td>151603712</td>\n      <td>Fallout 4</td>\n      <td>purchase</td>\n      <td>1.0</td>\n      <td>0</td>\n    </tr>\n    <tr>\n      <th>3</th>\n      <td>151603712</td>\n      <td>Fallout 4</td>\n      <td>play</td>\n      <td>87.0</td>\n      <td>0</td>\n    </tr>\n    <tr>\n      <th>4</th>\n      <td>151603712</td>\n      <td>Spore</td>\n      <td>purchase</td>\n      <td>1.0</td>\n      <td>0</td>\n    </tr>\n    <tr>\n      <th>...</th>\n      <td>...</td>\n      <td>...</td>\n      <td>...</td>\n      <td>...</td>\n      <td>...</td>\n    </tr>\n    <tr>\n      <th>199995</th>\n      <td>128470551</td>\n      <td>Titan Souls</td>\n      <td>play</td>\n      <td>1.5</td>\n      <td>0</td>\n    </tr>\n    <tr>\n      <th>199996</th>\n      <td>128470551</td>\n      <td>Grand Theft Auto Vice City</td>\n      <td>purchase</td>\n      <td>1.0</td>\n      <td>0</td>\n    </tr>\n    <tr>\n      <th>199997</th>\n      <td>128470551</td>\n      <td>Grand Theft Auto Vice City</td>\n      <td>play</td>\n      <td>1.5</td>\n      <td>0</td>\n    </tr>\n    <tr>\n      <th>199998</th>\n      <td>128470551</td>\n      <td>RUSH</td>\n      <td>purchase</td>\n      <td>1.0</td>\n      <td>0</td>\n    </tr>\n    <tr>\n      <th>199999</th>\n      <td>128470551</td>\n      <td>RUSH</td>\n      <td>play</td>\n      <td>1.4</td>\n      <td>0</td>\n    </tr>\n  </tbody>\n</table>\n<p>200000 rows × 5 columns</p>\n</div>"
     },
     "execution_count": 12,
     "metadata": {},
     "output_type": "execute_result"
    }
   ],
   "source": [
    "class ReadData:\n",
    "    \n",
    "    def __init__(self, path):\n",
    "        \n",
    "        self.path = path    # to be replaced by database connection\n",
    "        self.data = None\n",
    "        \n",
    "    def read_data(self):\n",
    "        \n",
    "        columns = [\"user_id\", \"game_name\", \"purchase_play\", \"hours_played\", \"0\"] # for now as there are no headers\n",
    "        self.data = pd.read_csv(self.path, names=columns, header=None)\n",
    "        \n",
    "        return self.data\n",
    "\n",
    "path = \"data/steam-200k.csv\"\n",
    "rd = ReadData(path)\n",
    "data = rd.read_data()\n",
    "data\n"
   ],
   "metadata": {
    "collapsed": false,
    "ExecuteTime": {
     "end_time": "2024-10-05T13:43:32.471114100Z",
     "start_time": "2024-10-05T13:43:32.228771200Z"
    }
   },
   "id": "72ff911ffa3eec9b"
  },
  {
   "cell_type": "markdown",
   "source": [
    "# Block building\n",
    "### Rozumiem, że suffix table to tu średnio, wiec głównie na początku tumbling window, potem można  hopping window, jakieś inne też bloki budowane na podstawie sąsiedztwa - no to już do dorobienia co tam się wymyśli"
   ],
   "metadata": {
    "collapsed": false
   },
   "id": "40709219f10608d3"
  },
  {
   "cell_type": "code",
   "execution_count": 119,
   "outputs": [],
   "source": [
    "class BlockBuilding:\n",
    "    \n",
    "    def __init__(self, data, sort_flag=True):\n",
    "        self.data = data\n",
    "        self.blocks = []\n",
    "        self.method = None\n",
    "        self.sort_flag = sort_flag\n",
    "        self.num_blocks = 1\n",
    "        \n",
    "    def set_method(self, method):\n",
    "        if method in ['suffix_array', 'tumbling_window']:\n",
    "            self.method = method\n",
    "        else:\n",
    "            raise ValueError(\"Method not supported\")\n",
    "        pass\n",
    "        \n",
    "    def sort_data(self, columns):\n",
    "        \n",
    "        if self.sort_flag:\n",
    "            if not columns:\n",
    "                raise ValueError(\"You must specify the columns to sort by.\")\n",
    "            else:\n",
    "                self.data = self.data.sort_values(by=columns)\n",
    "        \n",
    "        return self.data\n",
    "        \n",
    "    \n",
    "    def display_block(self, block_index=1):\n",
    "        \n",
    "        if self.blocks is None:\n",
    "            raise ValueError(\"No blocks have been generated. Run any of the block building methods first.\")\n",
    "        \n",
    "        return self.blocks[self.blocks['block_id'] == block_index]\n",
    "    \n",
    "    \n",
    "    def get_blocks(self):\n",
    "        \n",
    "        if self.blocks is None:\n",
    "            raise ValueError(\"No blocks have been generated. Run any of the block building methods first.\")\n",
    "        \n",
    "        return self.blocks    \n",
    "    # # Suffix array method - maybe in future\n",
    "    # def suffix_array(self):\n",
    "    #     columns = self.data.columns\n",
    "    #     suffix_dict = {}\n",
    "    #     \n",
    "    #     for column in columns:\n",
    "    #         suffix_arrays = []\n",
    "    #         for text in self.data[column]:\n",
    "    #             text = str(text)  # Ensure text is a string\n",
    "    #             suffixes = sorted([text[i:] for i in range(len(text))])\n",
    "    #             suffix_arrays.append(suffixes)\n",
    "    #         suffix_dict[f'suffix_array_{column}'] = suffix_arrays\n",
    "    #     \n",
    "    #     self.data_blocks = suffix_dict\n",
    "    #     return self.data_blocks\n",
    "    \n",
    "    def tumbling_window(self, window_size):\n",
    "\n",
    "        if window_size < 1:\n",
    "            raise ValueError(\"Window size must be at least 1.\")\n",
    "        \n",
    "        block_id = 1  # Initialize block counter\n",
    "        block_ids = []  # To store block IDs for each row\n",
    "        self.blocks = self.data # Assign raw data to blocks\n",
    "        \n",
    "        for i in range(0, len(self.data), window_size):\n",
    "            window_size_slice = self.data.iloc[i:i + window_size]  # Create a window slice\n",
    "            # Assign current block_id to all rows in this window\n",
    "            block_ids.extend([block_id] * len(window_size_slice))\n",
    "            block_id += 1\n",
    "        \n",
    "        self.blocks['block_id'] = block_ids # Add the block_id column to the DataFrame\n",
    "        self.num_blocks = block_id  # Get the number of blocks\n",
    "        pass\n",
    "    \n",
    "    def build_blocks(self, window_size):\n",
    "        \n",
    "        if self.method == 'tumbling_window':\n",
    "            self.tumbling_window(window_size)\n",
    "        else:\n",
    "            raise ValueError(\"No method has been set. Set a method first.\")\n",
    "        return self.blocks\n",
    "    \n",
    "    # Sending parameters and blocks to db\n",
    "    def send_params_to_db(self):\n",
    "        # TBD.....\n",
    "        # STEP OF DATA PIPELINE, BLOCKS - FULL DATA, NUMBER OF BLOCKS, USED METHOD/ALGORITHM, PARAMETERS OF THE PROCES/METHOD/ALGORITHM\n",
    "        return \"block_building\", self.blocks, self.num_blocks - 1, f\"block_building={self.method}\", f\"sorted={self.sort_flag}\""
   ],
   "metadata": {
    "collapsed": false,
    "ExecuteTime": {
     "end_time": "2024-10-05T17:01:28.135224400Z",
     "start_time": "2024-10-05T17:01:28.120410400Z"
    }
   },
   "id": "6cab97e8478f7555"
  },
  {
   "cell_type": "code",
   "execution_count": 121,
   "outputs": [
    {
     "name": "stdout",
     "output_type": "stream",
     "text": [
      "Step: block_building\n",
      "Number of blocks: 2000\n",
      "Method: block_building=tumbling_window\n",
      "Parameters: sorted=True\n"
     ]
    },
    {
     "data": {
      "text/plain": "          user_id         game_name purchase_play  hours_played  0  block_id\n63501    46055854       007 Legends          play           0.7  0         1\n63500    46055854       007 Legends      purchase           1.0  0         1\n59136    86055705         0RBITALIS          play           0.3  0         1\n193301   93030550         0RBITALIS      purchase           1.0  0         1\n193302   93030550         0RBITALIS          play           0.3  0         1\n...           ...               ...           ...           ... ..       ...\n126158  207424334  theHunter Primal      purchase           1.0  0      2000\n40001    62878249  theHunter Primal          play           9.4  0      2000\n40000    62878249  theHunter Primal      purchase           1.0  0      2000\n173447  159800136  theHunter Primal          play          71.0  0      2000\n173446  159800136  theHunter Primal      purchase           1.0  0      2000\n\n[200000 rows x 6 columns]",
      "text/html": "<div>\n<style scoped>\n    .dataframe tbody tr th:only-of-type {\n        vertical-align: middle;\n    }\n\n    .dataframe tbody tr th {\n        vertical-align: top;\n    }\n\n    .dataframe thead th {\n        text-align: right;\n    }\n</style>\n<table border=\"1\" class=\"dataframe\">\n  <thead>\n    <tr style=\"text-align: right;\">\n      <th></th>\n      <th>user_id</th>\n      <th>game_name</th>\n      <th>purchase_play</th>\n      <th>hours_played</th>\n      <th>0</th>\n      <th>block_id</th>\n    </tr>\n  </thead>\n  <tbody>\n    <tr>\n      <th>63501</th>\n      <td>46055854</td>\n      <td>007 Legends</td>\n      <td>play</td>\n      <td>0.7</td>\n      <td>0</td>\n      <td>1</td>\n    </tr>\n    <tr>\n      <th>63500</th>\n      <td>46055854</td>\n      <td>007 Legends</td>\n      <td>purchase</td>\n      <td>1.0</td>\n      <td>0</td>\n      <td>1</td>\n    </tr>\n    <tr>\n      <th>59136</th>\n      <td>86055705</td>\n      <td>0RBITALIS</td>\n      <td>play</td>\n      <td>0.3</td>\n      <td>0</td>\n      <td>1</td>\n    </tr>\n    <tr>\n      <th>193301</th>\n      <td>93030550</td>\n      <td>0RBITALIS</td>\n      <td>purchase</td>\n      <td>1.0</td>\n      <td>0</td>\n      <td>1</td>\n    </tr>\n    <tr>\n      <th>193302</th>\n      <td>93030550</td>\n      <td>0RBITALIS</td>\n      <td>play</td>\n      <td>0.3</td>\n      <td>0</td>\n      <td>1</td>\n    </tr>\n    <tr>\n      <th>...</th>\n      <td>...</td>\n      <td>...</td>\n      <td>...</td>\n      <td>...</td>\n      <td>...</td>\n      <td>...</td>\n    </tr>\n    <tr>\n      <th>126158</th>\n      <td>207424334</td>\n      <td>theHunter Primal</td>\n      <td>purchase</td>\n      <td>1.0</td>\n      <td>0</td>\n      <td>2000</td>\n    </tr>\n    <tr>\n      <th>40001</th>\n      <td>62878249</td>\n      <td>theHunter Primal</td>\n      <td>play</td>\n      <td>9.4</td>\n      <td>0</td>\n      <td>2000</td>\n    </tr>\n    <tr>\n      <th>40000</th>\n      <td>62878249</td>\n      <td>theHunter Primal</td>\n      <td>purchase</td>\n      <td>1.0</td>\n      <td>0</td>\n      <td>2000</td>\n    </tr>\n    <tr>\n      <th>173447</th>\n      <td>159800136</td>\n      <td>theHunter Primal</td>\n      <td>play</td>\n      <td>71.0</td>\n      <td>0</td>\n      <td>2000</td>\n    </tr>\n    <tr>\n      <th>173446</th>\n      <td>159800136</td>\n      <td>theHunter Primal</td>\n      <td>purchase</td>\n      <td>1.0</td>\n      <td>0</td>\n      <td>2000</td>\n    </tr>\n  </tbody>\n</table>\n<p>200000 rows × 6 columns</p>\n</div>"
     },
     "execution_count": 121,
     "metadata": {},
     "output_type": "execute_result"
    }
   ],
   "source": [
    "bb = BlockBuilding(data) # Loading data for block building, sorting is enabled by default, can be disabled by setting sort_flag=False\n",
    "\n",
    "# Optionally sort the data\n",
    "bb.sort_data(columns=['game_name'])\n",
    "\n",
    "# Apply the tumbling window method with a window size of 2\n",
    "bb.set_method('tumbling_window')\n",
    "result_df = bb.build_blocks(window_size=100)\n",
    "# Send parameters to the database (simulate by printing the return values)\n",
    "step, blocks, num_blocks, method, sort_flag = bb.send_params_to_db()\n",
    "print(f\"Step: {step}\")\n",
    "# print(f\"Blocks:\\n{blocks}\")\n",
    "print(f\"Number of blocks: {num_blocks}\")\n",
    "print(f\"Method: {method}\")\n",
    "print(f\"Parameters: {sort_flag}\")\n",
    "\n",
    "result_df"
   ],
   "metadata": {
    "collapsed": false,
    "ExecuteTime": {
     "end_time": "2024-10-05T17:01:39.075063900Z",
     "start_time": "2024-10-05T17:01:38.824773800Z"
    }
   },
   "id": "24f8ec76ab09fd99"
  },
  {
   "cell_type": "code",
   "execution_count": 122,
   "outputs": [
    {
     "data": {
      "text/plain": "          user_id                         game_name purchase_play  \\\n113479   86256882  3DMark API Overhead feature test      purchase   \n99714    87740709  3DMark API Overhead feature test      purchase   \n105095   45617627  3DMark API Overhead feature test      purchase   \n28216    24469287  3DMark API Overhead feature test      purchase   \n63647    37422528  3DMark API Overhead feature test      purchase   \n...           ...                               ...           ...   \n94062    38465050                          404Sight      purchase   \n62509   144580725                          404Sight      purchase   \n196966  222180483                          404Sight      purchase   \n406      53875128                          404Sight          play   \n163532  231042734                          404Sight          play   \n\n        hours_played  0  block_id  \n113479           1.0  0         3  \n99714            1.0  0         3  \n105095           1.0  0         3  \n28216            1.0  0         3  \n63647            1.0  0         3  \n...              ... ..       ...  \n94062            1.0  0         3  \n62509            1.0  0         3  \n196966           1.0  0         3  \n406              0.5  0         3  \n163532           0.2  0         3  \n\n[100 rows x 6 columns]",
      "text/html": "<div>\n<style scoped>\n    .dataframe tbody tr th:only-of-type {\n        vertical-align: middle;\n    }\n\n    .dataframe tbody tr th {\n        vertical-align: top;\n    }\n\n    .dataframe thead th {\n        text-align: right;\n    }\n</style>\n<table border=\"1\" class=\"dataframe\">\n  <thead>\n    <tr style=\"text-align: right;\">\n      <th></th>\n      <th>user_id</th>\n      <th>game_name</th>\n      <th>purchase_play</th>\n      <th>hours_played</th>\n      <th>0</th>\n      <th>block_id</th>\n    </tr>\n  </thead>\n  <tbody>\n    <tr>\n      <th>113479</th>\n      <td>86256882</td>\n      <td>3DMark API Overhead feature test</td>\n      <td>purchase</td>\n      <td>1.0</td>\n      <td>0</td>\n      <td>3</td>\n    </tr>\n    <tr>\n      <th>99714</th>\n      <td>87740709</td>\n      <td>3DMark API Overhead feature test</td>\n      <td>purchase</td>\n      <td>1.0</td>\n      <td>0</td>\n      <td>3</td>\n    </tr>\n    <tr>\n      <th>105095</th>\n      <td>45617627</td>\n      <td>3DMark API Overhead feature test</td>\n      <td>purchase</td>\n      <td>1.0</td>\n      <td>0</td>\n      <td>3</td>\n    </tr>\n    <tr>\n      <th>28216</th>\n      <td>24469287</td>\n      <td>3DMark API Overhead feature test</td>\n      <td>purchase</td>\n      <td>1.0</td>\n      <td>0</td>\n      <td>3</td>\n    </tr>\n    <tr>\n      <th>63647</th>\n      <td>37422528</td>\n      <td>3DMark API Overhead feature test</td>\n      <td>purchase</td>\n      <td>1.0</td>\n      <td>0</td>\n      <td>3</td>\n    </tr>\n    <tr>\n      <th>...</th>\n      <td>...</td>\n      <td>...</td>\n      <td>...</td>\n      <td>...</td>\n      <td>...</td>\n      <td>...</td>\n    </tr>\n    <tr>\n      <th>94062</th>\n      <td>38465050</td>\n      <td>404Sight</td>\n      <td>purchase</td>\n      <td>1.0</td>\n      <td>0</td>\n      <td>3</td>\n    </tr>\n    <tr>\n      <th>62509</th>\n      <td>144580725</td>\n      <td>404Sight</td>\n      <td>purchase</td>\n      <td>1.0</td>\n      <td>0</td>\n      <td>3</td>\n    </tr>\n    <tr>\n      <th>196966</th>\n      <td>222180483</td>\n      <td>404Sight</td>\n      <td>purchase</td>\n      <td>1.0</td>\n      <td>0</td>\n      <td>3</td>\n    </tr>\n    <tr>\n      <th>406</th>\n      <td>53875128</td>\n      <td>404Sight</td>\n      <td>play</td>\n      <td>0.5</td>\n      <td>0</td>\n      <td>3</td>\n    </tr>\n    <tr>\n      <th>163532</th>\n      <td>231042734</td>\n      <td>404Sight</td>\n      <td>play</td>\n      <td>0.2</td>\n      <td>0</td>\n      <td>3</td>\n    </tr>\n  </tbody>\n</table>\n<p>100 rows × 6 columns</p>\n</div>"
     },
     "execution_count": 122,
     "metadata": {},
     "output_type": "execute_result"
    }
   ],
   "source": [
    "bb.display_block(3)"
   ],
   "metadata": {
    "collapsed": false,
    "ExecuteTime": {
     "end_time": "2024-10-05T17:01:39.666314100Z",
     "start_time": "2024-10-05T17:01:39.629423100Z"
    }
   },
   "id": "dc53d4b7b92d8294"
  },
  {
   "cell_type": "markdown",
   "source": [
    "# Block cleaning\n",
    "### na razie ustalmy, że to po prostu usuwanie duplikatów, exact albo po kolumnach bo używając tumbling/hopping windows w budowaniu bloków będa bloki takiej samej wielkosci, wiec no ciezko o usuwanie duzych/malych bloków"
   ],
   "metadata": {
    "collapsed": false
   },
   "id": "63d9bddec059444b"
  },
  {
   "cell_type": "code",
   "execution_count": 135,
   "outputs": [],
   "source": [
    "import pandas as pd\n",
    "\n",
    "class BlockCleaning:\n",
    "    \n",
    "    def __init__(self, blocks):\n",
    "        self.blocks = blocks\n",
    "        self.num_blocks = max(blocks['block_id'])\n",
    "        self.method = None\n",
    "        self.blocks_cleaned = pd.DataFrame()\n",
    "        \n",
    "    def set_method(self, method):\n",
    "        if method in ['drop_exact_duplicates', 'drop_duplicates_selected_cols']:\n",
    "            self.method = method\n",
    "        else:\n",
    "            raise ValueError(\"Method not supported\")\n",
    "        \n",
    "    def drop_exact_duplicates(self):\n",
    "        self.blocks_cleaned = pd.DataFrame()  # Reset cleaned blocks to empty DataFrame\n",
    "        \n",
    "        for block_id, block in self.blocks.groupby('block_id'):\n",
    "            block_cleaned = block.drop_duplicates()  # Drop exact duplicates\n",
    "            self.blocks_cleaned = pd.concat([self.blocks_cleaned, block_cleaned])  # Append to blocks_cleaned\n",
    "        \n",
    "        return self.blocks_cleaned\n",
    "    \n",
    "    def drop_duplicates_selected_cols(self, columns):\n",
    "        self.blocks_cleaned = pd.DataFrame()  # Reset cleaned blocks to empty DataFrame\n",
    "        \n",
    "        for block_id, block in self.blocks.groupby('block_id'):\n",
    "            block_cleaned = block.drop_duplicates(subset=columns)  # Drop duplicates on specific columns\n",
    "            self.blocks_cleaned = pd.concat([self.blocks_cleaned, block_cleaned])  # Append to blocks_cleaned\n",
    "        \n",
    "        return self.blocks_cleaned\n",
    "    \n",
    "    def clean_blocks(self, columns=None):\n",
    "        if self.method == 'drop_exact_duplicates':\n",
    "            return self.drop_exact_duplicates()\n",
    "        \n",
    "        elif self.method == 'drop_duplicates_selected_cols':\n",
    "            if columns is None:\n",
    "                raise ValueError(\"You must provide columns for 'drop_duplicates_selected_cols' method.\")\n",
    "            return self.drop_duplicates_selected_cols(columns=columns)\n",
    "        \n",
    "        else:\n",
    "            raise ValueError(\"No valid method set. Set the cleaning method first.\")\n",
    "\n",
    "    def display_clean_block(self, block_index=1):\n",
    "        if self.blocks_cleaned is None or self.blocks_cleaned.empty:\n",
    "            raise ValueError(\"No blocks have been cleaned. Run the blocks_cleaned method first.\")\n",
    "        \n",
    "        return self.blocks_cleaned[self.blocks_cleaned['block_id'] == block_index]\n",
    "    \n",
    "    def get_blocks_cleaned(self):\n",
    "        if self.blocks_cleaned is None or self.blocks_cleaned.empty:\n",
    "            raise ValueError(\"No blocks have been cleaned. Run the blocks_cleaned method first.\")\n",
    "        \n",
    "        return self.blocks_cleaned\n"
   ],
   "metadata": {
    "collapsed": false,
    "ExecuteTime": {
     "end_time": "2024-10-05T17:13:31.949727900Z",
     "start_time": "2024-10-05T17:13:31.889190Z"
    }
   },
   "id": "2ab81430a69d055"
  },
  {
   "cell_type": "code",
   "execution_count": 136,
   "outputs": [
    {
     "data": {
      "text/plain": "          user_id         game_name purchase_play  hours_played  0  block_id\n63501    46055854       007 Legends          play           0.7  0         1\n63500    46055854       007 Legends      purchase           1.0  0         1\n59136    86055705         0RBITALIS          play           0.3  0         1\n193301   93030550         0RBITALIS      purchase           1.0  0         1\n193302   93030550         0RBITALIS          play           0.3  0         1\n...           ...               ...           ...           ... ..       ...\n126158  207424334  theHunter Primal      purchase           1.0  0      2000\n40001    62878249  theHunter Primal          play           9.4  0      2000\n40000    62878249  theHunter Primal      purchase           1.0  0      2000\n173447  159800136  theHunter Primal          play          71.0  0      2000\n173446  159800136  theHunter Primal      purchase           1.0  0      2000\n\n[199515 rows x 6 columns]",
      "text/html": "<div>\n<style scoped>\n    .dataframe tbody tr th:only-of-type {\n        vertical-align: middle;\n    }\n\n    .dataframe tbody tr th {\n        vertical-align: top;\n    }\n\n    .dataframe thead th {\n        text-align: right;\n    }\n</style>\n<table border=\"1\" class=\"dataframe\">\n  <thead>\n    <tr style=\"text-align: right;\">\n      <th></th>\n      <th>user_id</th>\n      <th>game_name</th>\n      <th>purchase_play</th>\n      <th>hours_played</th>\n      <th>0</th>\n      <th>block_id</th>\n    </tr>\n  </thead>\n  <tbody>\n    <tr>\n      <th>63501</th>\n      <td>46055854</td>\n      <td>007 Legends</td>\n      <td>play</td>\n      <td>0.7</td>\n      <td>0</td>\n      <td>1</td>\n    </tr>\n    <tr>\n      <th>63500</th>\n      <td>46055854</td>\n      <td>007 Legends</td>\n      <td>purchase</td>\n      <td>1.0</td>\n      <td>0</td>\n      <td>1</td>\n    </tr>\n    <tr>\n      <th>59136</th>\n      <td>86055705</td>\n      <td>0RBITALIS</td>\n      <td>play</td>\n      <td>0.3</td>\n      <td>0</td>\n      <td>1</td>\n    </tr>\n    <tr>\n      <th>193301</th>\n      <td>93030550</td>\n      <td>0RBITALIS</td>\n      <td>purchase</td>\n      <td>1.0</td>\n      <td>0</td>\n      <td>1</td>\n    </tr>\n    <tr>\n      <th>193302</th>\n      <td>93030550</td>\n      <td>0RBITALIS</td>\n      <td>play</td>\n      <td>0.3</td>\n      <td>0</td>\n      <td>1</td>\n    </tr>\n    <tr>\n      <th>...</th>\n      <td>...</td>\n      <td>...</td>\n      <td>...</td>\n      <td>...</td>\n      <td>...</td>\n      <td>...</td>\n    </tr>\n    <tr>\n      <th>126158</th>\n      <td>207424334</td>\n      <td>theHunter Primal</td>\n      <td>purchase</td>\n      <td>1.0</td>\n      <td>0</td>\n      <td>2000</td>\n    </tr>\n    <tr>\n      <th>40001</th>\n      <td>62878249</td>\n      <td>theHunter Primal</td>\n      <td>play</td>\n      <td>9.4</td>\n      <td>0</td>\n      <td>2000</td>\n    </tr>\n    <tr>\n      <th>40000</th>\n      <td>62878249</td>\n      <td>theHunter Primal</td>\n      <td>purchase</td>\n      <td>1.0</td>\n      <td>0</td>\n      <td>2000</td>\n    </tr>\n    <tr>\n      <th>173447</th>\n      <td>159800136</td>\n      <td>theHunter Primal</td>\n      <td>play</td>\n      <td>71.0</td>\n      <td>0</td>\n      <td>2000</td>\n    </tr>\n    <tr>\n      <th>173446</th>\n      <td>159800136</td>\n      <td>theHunter Primal</td>\n      <td>purchase</td>\n      <td>1.0</td>\n      <td>0</td>\n      <td>2000</td>\n    </tr>\n  </tbody>\n</table>\n<p>199515 rows × 6 columns</p>\n</div>"
     },
     "execution_count": 136,
     "metadata": {},
     "output_type": "execute_result"
    }
   ],
   "source": [
    "block_cleaner = BlockCleaning(result_df)\n",
    "\n",
    "block_cleaner.set_method('drop_exact_duplicates')\n",
    "block_cleaner.clean_blocks()  \n",
    "block_cleaner.get_blocks_cleaned()"
   ],
   "metadata": {
    "collapsed": false,
    "ExecuteTime": {
     "end_time": "2024-10-05T17:13:47.962265100Z",
     "start_time": "2024-10-05T17:13:41.331789900Z"
    }
   },
   "id": "1544f397f1f67e5d"
  },
  {
   "cell_type": "code",
   "execution_count": 137,
   "outputs": [
    {
     "data": {
      "text/plain": "          user_id                                          game_name  \\\n63501    46055854                                        007 Legends   \n59136    86055705                                          0RBITALIS   \n193301   93030550                                          0RBITALIS   \n112177   11940338                                          0RBITALIS   \n166460   50818751  1... 2... 3... KICK IT! (Drop That Beat Like a...   \n...           ...                                                ...   \n141839  198914333                                          theHunter   \n62965   157080495                                   theHunter Primal   \n126159  207424334                                   theHunter Primal   \n40001    62878249                                   theHunter Primal   \n173447  159800136                                   theHunter Primal   \n\n       purchase_play  hours_played  0  block_id  \n63501           play           0.7  0         1  \n59136           play           0.3  0         1  \n193301      purchase           1.0  0         1  \n112177          play           0.6  0         1  \n166460          play           5.0  0         1  \n...              ...           ... ..       ...  \n141839      purchase           1.0  0      2000  \n62965       purchase           1.0  0      2000  \n126159          play           4.6  0      2000  \n40001           play           9.4  0      2000  \n173447          play          71.0  0      2000  \n\n[138781 rows x 6 columns]",
      "text/html": "<div>\n<style scoped>\n    .dataframe tbody tr th:only-of-type {\n        vertical-align: middle;\n    }\n\n    .dataframe tbody tr th {\n        vertical-align: top;\n    }\n\n    .dataframe thead th {\n        text-align: right;\n    }\n</style>\n<table border=\"1\" class=\"dataframe\">\n  <thead>\n    <tr style=\"text-align: right;\">\n      <th></th>\n      <th>user_id</th>\n      <th>game_name</th>\n      <th>purchase_play</th>\n      <th>hours_played</th>\n      <th>0</th>\n      <th>block_id</th>\n    </tr>\n  </thead>\n  <tbody>\n    <tr>\n      <th>63501</th>\n      <td>46055854</td>\n      <td>007 Legends</td>\n      <td>play</td>\n      <td>0.7</td>\n      <td>0</td>\n      <td>1</td>\n    </tr>\n    <tr>\n      <th>59136</th>\n      <td>86055705</td>\n      <td>0RBITALIS</td>\n      <td>play</td>\n      <td>0.3</td>\n      <td>0</td>\n      <td>1</td>\n    </tr>\n    <tr>\n      <th>193301</th>\n      <td>93030550</td>\n      <td>0RBITALIS</td>\n      <td>purchase</td>\n      <td>1.0</td>\n      <td>0</td>\n      <td>1</td>\n    </tr>\n    <tr>\n      <th>112177</th>\n      <td>11940338</td>\n      <td>0RBITALIS</td>\n      <td>play</td>\n      <td>0.6</td>\n      <td>0</td>\n      <td>1</td>\n    </tr>\n    <tr>\n      <th>166460</th>\n      <td>50818751</td>\n      <td>1... 2... 3... KICK IT! (Drop That Beat Like a...</td>\n      <td>play</td>\n      <td>5.0</td>\n      <td>0</td>\n      <td>1</td>\n    </tr>\n    <tr>\n      <th>...</th>\n      <td>...</td>\n      <td>...</td>\n      <td>...</td>\n      <td>...</td>\n      <td>...</td>\n      <td>...</td>\n    </tr>\n    <tr>\n      <th>141839</th>\n      <td>198914333</td>\n      <td>theHunter</td>\n      <td>purchase</td>\n      <td>1.0</td>\n      <td>0</td>\n      <td>2000</td>\n    </tr>\n    <tr>\n      <th>62965</th>\n      <td>157080495</td>\n      <td>theHunter Primal</td>\n      <td>purchase</td>\n      <td>1.0</td>\n      <td>0</td>\n      <td>2000</td>\n    </tr>\n    <tr>\n      <th>126159</th>\n      <td>207424334</td>\n      <td>theHunter Primal</td>\n      <td>play</td>\n      <td>4.6</td>\n      <td>0</td>\n      <td>2000</td>\n    </tr>\n    <tr>\n      <th>40001</th>\n      <td>62878249</td>\n      <td>theHunter Primal</td>\n      <td>play</td>\n      <td>9.4</td>\n      <td>0</td>\n      <td>2000</td>\n    </tr>\n    <tr>\n      <th>173447</th>\n      <td>159800136</td>\n      <td>theHunter Primal</td>\n      <td>play</td>\n      <td>71.0</td>\n      <td>0</td>\n      <td>2000</td>\n    </tr>\n  </tbody>\n</table>\n<p>138781 rows × 6 columns</p>\n</div>"
     },
     "execution_count": 137,
     "metadata": {},
     "output_type": "execute_result"
    }
   ],
   "source": [
    "block_cleaner = BlockCleaning(result_df)\n",
    "\n",
    "block_cleaner.set_method('drop_duplicates_selected_cols')\n",
    "block_cleaner.clean_blocks(columns=['game_name', 'user_id'])  \n",
    "block_cleaner.get_blocks_cleaned()"
   ],
   "metadata": {
    "collapsed": false,
    "ExecuteTime": {
     "end_time": "2024-10-05T17:14:48.712051100Z",
     "start_time": "2024-10-05T17:14:43.695257500Z"
    }
   },
   "id": "ea6de8bb6d955a91"
  },
  {
   "cell_type": "markdown",
   "source": [
    "# Comparison cleaning\n",
    "### Tu zrobimy porównania oparte o prawdopodobieństwie na danych kolumnach, np. fuzzy string matching, jakieś grafy prawdopodobieństwa, idk"
   ],
   "metadata": {
    "collapsed": false
   },
   "id": "19a7f97669de5dd8"
  },
  {
   "cell_type": "code",
   "execution_count": null,
   "outputs": [],
   "source": [],
   "metadata": {
    "collapsed": false
   },
   "id": "5d941c21a7e037b8"
  }
 ],
 "metadata": {
  "kernelspec": {
   "display_name": "Python 3",
   "language": "python",
   "name": "python3"
  },
  "language_info": {
   "codemirror_mode": {
    "name": "ipython",
    "version": 2
   },
   "file_extension": ".py",
   "mimetype": "text/x-python",
   "name": "python",
   "nbconvert_exporter": "python",
   "pygments_lexer": "ipython2",
   "version": "2.7.6"
  }
 },
 "nbformat": 4,
 "nbformat_minor": 5
}
