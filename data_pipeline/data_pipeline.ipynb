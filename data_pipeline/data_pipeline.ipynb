{
 "cells": [
  {
   "cell_type": "code",
   "execution_count": 1,
   "id": "initial_id",
   "metadata": {
    "collapsed": true,
    "ExecuteTime": {
     "end_time": "2024-10-13T10:33:21.401918600Z",
     "start_time": "2024-10-13T10:33:20.678198400Z"
    }
   },
   "outputs": [],
   "source": [
    "import polars as pl\n",
    "import numpy as np\n",
    "import unicodedata\n",
    "import string\n",
    "import sqlalchemy as _sql\n",
    "import sqlalchemy.ext.declarative as _declarative\n",
    "import sqlalchemy.orm as _orm"
   ]
  },
  {
   "cell_type": "code",
   "execution_count": 2,
   "outputs": [],
   "source": [
    "# TODO: change to real database\n",
    "# DATABASE_URL = \"postgresql+psycopg2://db_user:password@db:5432/inzynierka_db\"\n",
    "# engine = _sql.create_engine(DATABASE_URL)\n",
    "# SessionLocal = _orm.sessionmaker(autocommit=False, autoflush=False, bind=engine)\n",
    "# Base = _declarative.declarative_base()"
   ],
   "metadata": {
    "collapsed": false,
    "ExecuteTime": {
     "end_time": "2024-10-13T10:33:22.605854500Z",
     "start_time": "2024-10-13T10:33:22.596416800Z"
    }
   },
   "id": "ee1714062381b142"
  },
  {
   "cell_type": "markdown",
   "source": [
    "# Data reading"
   ],
   "metadata": {
    "collapsed": false
   },
   "id": "6dbb3a0685941d09"
  },
  {
   "cell_type": "code",
   "execution_count": 3,
   "outputs": [],
   "source": [
    "class ReadData:\n",
    "    \n",
    "    def __init__(self, path):\n",
    "        \"\"\"\n",
    "        Initialize with the path to the CSV file.\n",
    "        \"\"\"\n",
    "        self.path = path    # Can be replaced by database connection later\n",
    "        self.data = None\n",
    "        \n",
    "    def read_data(self):\n",
    "        \"\"\"\n",
    "        Read data from the CSV file using polars.\n",
    "        Returns a polars DataFrame.\n",
    "        \"\"\"\n",
    "        # Define columns (as there are no headers in the CSV)\n",
    "        columns = [\"user_id\", \"game_name\", \"purchase_play\", \"hours_played\", \"0\"]  # For now, assume no headers\n",
    "        self.data = pl.read_csv(self.path, has_header=False, new_columns=columns)\n",
    "        self.data = pl.DataFrame(self.data, strict=False)\n",
    "\n",
    "        \n",
    "        return self.data"
   ],
   "metadata": {
    "collapsed": false,
    "ExecuteTime": {
     "end_time": "2024-10-13T10:33:24.216409900Z",
     "start_time": "2024-10-13T10:33:24.208836400Z"
    }
   },
   "id": "72ff911ffa3eec9b"
  },
  {
   "cell_type": "code",
   "execution_count": 4,
   "outputs": [
    {
     "data": {
      "text/plain": "shape: (200_000, 5)\n┌───────────┬────────────────────────────┬───────────────┬──────────────┬─────┐\n│ user_id   ┆ game_name                  ┆ purchase_play ┆ hours_played ┆ 0   │\n│ ---       ┆ ---                        ┆ ---           ┆ ---          ┆ --- │\n│ i64       ┆ str                        ┆ str           ┆ f64          ┆ i64 │\n╞═══════════╪════════════════════════════╪═══════════════╪══════════════╪═════╡\n│ 151603712 ┆ The Elder Scrolls V Skyrim ┆ purchase      ┆ 1.0          ┆ 0   │\n│ 151603712 ┆ The Elder Scrolls V Skyrim ┆ play          ┆ 273.0        ┆ 0   │\n│ 151603712 ┆ Fallout 4                  ┆ purchase      ┆ 1.0          ┆ 0   │\n│ 151603712 ┆ Fallout 4                  ┆ play          ┆ 87.0         ┆ 0   │\n│ 151603712 ┆ Spore                      ┆ purchase      ┆ 1.0          ┆ 0   │\n│ …         ┆ …                          ┆ …             ┆ …            ┆ …   │\n│ 128470551 ┆ Titan Souls                ┆ play          ┆ 1.5          ┆ 0   │\n│ 128470551 ┆ Grand Theft Auto Vice City ┆ purchase      ┆ 1.0          ┆ 0   │\n│ 128470551 ┆ Grand Theft Auto Vice City ┆ play          ┆ 1.5          ┆ 0   │\n│ 128470551 ┆ RUSH                       ┆ purchase      ┆ 1.0          ┆ 0   │\n│ 128470551 ┆ RUSH                       ┆ play          ┆ 1.4          ┆ 0   │\n└───────────┴────────────────────────────┴───────────────┴──────────────┴─────┘",
      "text/html": "<div><style>\n.dataframe > thead > tr,\n.dataframe > tbody > tr {\n  text-align: right;\n  white-space: pre-wrap;\n}\n</style>\n<small>shape: (200_000, 5)</small><table border=\"1\" class=\"dataframe\"><thead><tr><th>user_id</th><th>game_name</th><th>purchase_play</th><th>hours_played</th><th>0</th></tr><tr><td>i64</td><td>str</td><td>str</td><td>f64</td><td>i64</td></tr></thead><tbody><tr><td>151603712</td><td>&quot;The Elder Scrolls V Skyrim&quot;</td><td>&quot;purchase&quot;</td><td>1.0</td><td>0</td></tr><tr><td>151603712</td><td>&quot;The Elder Scrolls V Skyrim&quot;</td><td>&quot;play&quot;</td><td>273.0</td><td>0</td></tr><tr><td>151603712</td><td>&quot;Fallout 4&quot;</td><td>&quot;purchase&quot;</td><td>1.0</td><td>0</td></tr><tr><td>151603712</td><td>&quot;Fallout 4&quot;</td><td>&quot;play&quot;</td><td>87.0</td><td>0</td></tr><tr><td>151603712</td><td>&quot;Spore&quot;</td><td>&quot;purchase&quot;</td><td>1.0</td><td>0</td></tr><tr><td>&hellip;</td><td>&hellip;</td><td>&hellip;</td><td>&hellip;</td><td>&hellip;</td></tr><tr><td>128470551</td><td>&quot;Titan Souls&quot;</td><td>&quot;play&quot;</td><td>1.5</td><td>0</td></tr><tr><td>128470551</td><td>&quot;Grand Theft Auto Vice City&quot;</td><td>&quot;purchase&quot;</td><td>1.0</td><td>0</td></tr><tr><td>128470551</td><td>&quot;Grand Theft Auto Vice City&quot;</td><td>&quot;play&quot;</td><td>1.5</td><td>0</td></tr><tr><td>128470551</td><td>&quot;RUSH&quot;</td><td>&quot;purchase&quot;</td><td>1.0</td><td>0</td></tr><tr><td>128470551</td><td>&quot;RUSH&quot;</td><td>&quot;play&quot;</td><td>1.4</td><td>0</td></tr></tbody></table></div>"
     },
     "execution_count": 4,
     "metadata": {},
     "output_type": "execute_result"
    }
   ],
   "source": [
    "path = \"data/steam-200k.csv\"\n",
    "rd = ReadData(path)\n",
    "data = rd.read_data()\n",
    "data"
   ],
   "metadata": {
    "collapsed": false,
    "ExecuteTime": {
     "end_time": "2024-10-13T10:33:25.714149900Z",
     "start_time": "2024-10-13T10:33:25.414207Z"
    }
   },
   "id": "a81a1a3e51ac6a86"
  },
  {
   "cell_type": "markdown",
   "source": [
    "# Data Pre-processing\n",
    "\n",
    "- Normalization (lowercasing, removing diacritics, punctuations)\n",
    "- Tokenization (TBD?)\n",
    "- Drop duplicates"
   ],
   "metadata": {
    "collapsed": false
   },
   "id": "5b9f1f7aa597b307"
  },
  {
   "cell_type": "code",
   "execution_count": 5,
   "outputs": [],
   "source": [
    "import polars as pl\n",
    "import unicodedata\n",
    "import string\n",
    "import re\n",
    "\n",
    "class DataPreprocessing:\n",
    "    \n",
    "    def __init__(self, data):\n",
    "        \"\"\"\n",
    "        Initialize the DataPreprocessor with the data.\n",
    "        :param data: polars DataFrame containing the data to be processed.\n",
    "        \"\"\"\n",
    "        self.data = data\n",
    "        self.columns = None\n",
    "        self.processed_data = data.clone()  # A copy of the data to avoid modifying the original\n",
    "        \n",
    "    def select_columns(self, columns):\n",
    "        \"\"\"\n",
    "        Select the columns to apply preprocessing on.\n",
    "        If 'all' is passed, all columns will be selected.\n",
    "        :param columns: List of columns to be normalized, or 'all' to select all columns.\n",
    "        \"\"\"\n",
    "        if columns[0] == 'all':\n",
    "            # Select all columns in the DataFrame\n",
    "            self.columns = self.data.columns\n",
    "        else:\n",
    "            # Otherwise, use the provided list of columns\n",
    "            self.columns = columns\n",
    "    \n",
    "    def _ensure_non_numeric_string_columns(self):\n",
    "        \"\"\"\n",
    "        Internal method to ensure that only non-numeric string columns are selected for string operations.\n",
    "        \"\"\"\n",
    "        # Filter out non-string columns (Int64, Float64, etc.)\n",
    "        self.columns = [col for col in self.columns if self.data.schema[col] == pl.Utf8]\n",
    "\n",
    "    def lowercase(self):\n",
    "        \"\"\"\n",
    "        Convert text to lowercase in the selected columns.\n",
    "        \"\"\"\n",
    "        if self.columns is None:\n",
    "            raise ValueError(\"No columns selected for preprocessing. Use select_columns method first.\")\n",
    "        \n",
    "        try:\n",
    "            self.processed_data = self.processed_data.with_columns([\n",
    "                pl.col(col).str.to_lowercase() for col in self.columns\n",
    "            ])\n",
    "        except Exception as e:\n",
    "            print(f\"Error applying lowercase operation: {e}\")\n",
    "    \n",
    "    def remove_diacritics(self):\n",
    "        \"\"\"\n",
    "        Remove diacritics from text in the selected columns.\n",
    "        \"\"\"\n",
    "        if self.columns is None:\n",
    "            raise ValueError(\"No columns selected for preprocessing. Use select_columns method first.\")\n",
    "        \n",
    "        def _remove_diacritics(text):\n",
    "            return ''.join(\n",
    "                c for c in unicodedata.normalize('NFKD', text) \n",
    "                if unicodedata.category(c) != 'Mn'\n",
    "            )\n",
    "        \n",
    "        try:\n",
    "            # Apply the diacritics removal function using map_elements\n",
    "            self.processed_data = self.processed_data.with_columns([\n",
    "                pl.col(col).map_elements(_remove_diacritics, return_dtype=pl.Utf8).alias(col) for col in self.columns\n",
    "            ])\n",
    "        except Exception as e:\n",
    "            print(f\"Error removing diacritics: {e}\")\n",
    "\n",
    "    def remove_punctuation(self):\n",
    "        \"\"\"\n",
    "        Remove punctuation from text in the selected columns.\n",
    "        \"\"\"\n",
    "        if self.columns is None:\n",
    "            raise ValueError(\"No columns selected for preprocessing. Use select_columns method first.\")\n",
    "\n",
    "        # Ensure only string columns are processed\n",
    "        self._ensure_non_numeric_string_columns()\n",
    "\n",
    "        # Escape the square brackets in the regex to avoid parsing errors\n",
    "        punctuation_pattern = re.escape(string.punctuation)\n",
    "\n",
    "        try:\n",
    "            # Apply punctuation removal only to string columns\n",
    "            self.processed_data = self.processed_data.with_columns([\n",
    "                pl.col(col).str.replace_all(f\"[{punctuation_pattern}]\", '').alias(col) for col in self.columns\n",
    "            ])\n",
    "        except Exception as e:\n",
    "            print(f\"Error removing punctuation: {e}\")\n",
    "    \n",
    "    def drop_duplicates(self):\n",
    "        \"\"\"\n",
    "        Drop exact duplicates across all columns in the DataFrame. This is a mandatory step.\n",
    "        \"\"\"\n",
    "        try:\n",
    "            self.processed_data = self.processed_data.unique()\n",
    "        except Exception as e:\n",
    "            print(f\"Error dropping duplicates: {e}\")\n",
    "\n",
    "    def apply_preprocessing(self, lowercase=False, diacritics_removal=False, punctuation_removal=False):\n",
    "        \"\"\"\n",
    "        Apply preprocessing steps based on user selection.\n",
    "        The order is: lowercase -> diacritics removal -> punctuation removal -> drop exact duplicates.\n",
    "        :param lowercase: If True, apply lowercasing to the selected columns.\n",
    "        :param diacritics_removal: If True, remove diacritics from the selected columns.\n",
    "        :param punctuation_removal: If True, remove punctuation from the selected columns.\n",
    "        :return: Preprocessed polars DataFrame.\n",
    "        \"\"\"\n",
    "        try:\n",
    "            # Apply preprocessing steps based on user input\n",
    "            if punctuation_removal:\n",
    "                self.remove_punctuation()\n",
    "            \n",
    "            # Ensure non-numeric string columns are processed\n",
    "            self._ensure_non_numeric_string_columns()\n",
    "            \n",
    "            if lowercase:\n",
    "                self.lowercase()\n",
    "            \n",
    "            if diacritics_removal:\n",
    "                self.remove_diacritics()\n",
    "            \n",
    "            # Drop exact duplicates as the mandatory last step\n",
    "            self.drop_duplicates()\n",
    "        \n",
    "        except Exception as e:\n",
    "            print(f\"Error during preprocessing: {e}\")\n",
    "        \n",
    "        return self.processed_data\n",
    "    \n",
    "    def get_processed_data(self):\n",
    "        \"\"\"\n",
    "        Return the preprocessed data.\n",
    "        :return: Preprocessed polars DataFrame.\n",
    "        \"\"\"\n",
    "        return self.processed_data\n"
   ],
   "metadata": {
    "collapsed": false,
    "ExecuteTime": {
     "end_time": "2024-10-13T10:33:28.356915700Z",
     "start_time": "2024-10-13T10:33:28.342368300Z"
    }
   },
   "id": "7953afe00343280"
  },
  {
   "cell_type": "code",
   "execution_count": 7,
   "outputs": [
    {
     "data": {
      "text/plain": "shape: (199_249, 5)\n┌───────────┬─────────────────────────────────┬───────────────┬──────────────┬─────┐\n│ user_id   ┆ game_name                       ┆ purchase_play ┆ hours_played ┆ 0   │\n│ ---       ┆ ---                             ┆ ---           ┆ ---          ┆ --- │\n│ i64       ┆ str                             ┆ str           ┆ f64          ┆ i64 │\n╞═══════════╪═════════════════════════════════╪═══════════════╪══════════════╪═════╡\n│ 104727643 ┆ counterstrike global offensive  ┆ purchase      ┆ 1.0          ┆ 0   │\n│ 34901647  ┆ brtal legend                    ┆ play          ┆ 14.7         ┆ 0   │\n│ 62990992  ┆ counterstrike                   ┆ purchase      ┆ 1.0          ┆ 0   │\n│ 190061555 ┆ dota 2                          ┆ play          ┆ 0.8          ┆ 0   │\n│ 53875128  ┆ jazzpunk                        ┆ purchase      ┆ 1.0          ┆ 0   │\n│ …         ┆ …                               ┆ …             ┆ …            ┆ …   │\n│ 47672756  ┆ call of duty modern warfare 2 … ┆ play          ┆ 8.3          ┆ 0   │\n│ 38465050  ┆ lego marvel super heroes        ┆ play          ┆ 53.0         ┆ 0   │\n│ 66255019  ┆ dr langeskov the tiger and the… ┆ purchase      ┆ 1.0          ┆ 0   │\n│ 181010210 ┆ dota 2                          ┆ play          ┆ 0.3          ┆ 0   │\n│ 66650717  ┆ empire total war                ┆ play          ┆ 320.0        ┆ 0   │\n└───────────┴─────────────────────────────────┴───────────────┴──────────────┴─────┘",
      "text/html": "<div><style>\n.dataframe > thead > tr,\n.dataframe > tbody > tr {\n  text-align: right;\n  white-space: pre-wrap;\n}\n</style>\n<small>shape: (199_249, 5)</small><table border=\"1\" class=\"dataframe\"><thead><tr><th>user_id</th><th>game_name</th><th>purchase_play</th><th>hours_played</th><th>0</th></tr><tr><td>i64</td><td>str</td><td>str</td><td>f64</td><td>i64</td></tr></thead><tbody><tr><td>104727643</td><td>&quot;counterstrike global offensive&quot;</td><td>&quot;purchase&quot;</td><td>1.0</td><td>0</td></tr><tr><td>34901647</td><td>&quot;brtal legend&quot;</td><td>&quot;play&quot;</td><td>14.7</td><td>0</td></tr><tr><td>62990992</td><td>&quot;counterstrike&quot;</td><td>&quot;purchase&quot;</td><td>1.0</td><td>0</td></tr><tr><td>190061555</td><td>&quot;dota 2&quot;</td><td>&quot;play&quot;</td><td>0.8</td><td>0</td></tr><tr><td>53875128</td><td>&quot;jazzpunk&quot;</td><td>&quot;purchase&quot;</td><td>1.0</td><td>0</td></tr><tr><td>&hellip;</td><td>&hellip;</td><td>&hellip;</td><td>&hellip;</td><td>&hellip;</td></tr><tr><td>47672756</td><td>&quot;call of duty modern warfare 2 …</td><td>&quot;play&quot;</td><td>8.3</td><td>0</td></tr><tr><td>38465050</td><td>&quot;lego marvel super heroes&quot;</td><td>&quot;play&quot;</td><td>53.0</td><td>0</td></tr><tr><td>66255019</td><td>&quot;dr langeskov the tiger and the…</td><td>&quot;purchase&quot;</td><td>1.0</td><td>0</td></tr><tr><td>181010210</td><td>&quot;dota 2&quot;</td><td>&quot;play&quot;</td><td>0.3</td><td>0</td></tr><tr><td>66650717</td><td>&quot;empire total war&quot;</td><td>&quot;play&quot;</td><td>320.0</td><td>0</td></tr></tbody></table></div>"
     },
     "execution_count": 7,
     "metadata": {},
     "output_type": "execute_result"
    }
   ],
   "source": [
    "preprocessor = DataPreprocessing(data)\n",
    "\n",
    "preprocessor.select_columns(columns=['all'])\n",
    "preprocessor.apply_preprocessing(lowercase=True, diacritics_removal=True, punctuation_removal=True)\n",
    "data = preprocessor.get_processed_data()\n",
    "data"
   ],
   "metadata": {
    "collapsed": false,
    "ExecuteTime": {
     "end_time": "2024-10-13T10:33:36.532257Z",
     "start_time": "2024-10-13T10:33:35.296297200Z"
    }
   },
   "id": "35ae2a845eb8545c"
  },
  {
   "cell_type": "markdown",
   "source": [
    "# Block building\n",
    "\n",
    "- Sorted Neighborhood Method (SNM)\n",
    "- Standard Blocking Method\n"
   ],
   "metadata": {
    "collapsed": false
   },
   "id": "40709219f10608d3"
  },
  {
   "cell_type": "code",
   "execution_count": 51,
   "outputs": [],
   "source": [
    "import polars as pl\n",
    "\n",
    "class BlockBuilding:\n",
    "    \n",
    "    def __init__(self, data, method):\n",
    "        \"\"\"\n",
    "        Initialize the BlockBuilder with data and method.\n",
    "        :param data: polars DataFrame containing the entity data.\n",
    "        :param method: The blocking method to use ('sorted_neighborhood' or 'standard_blocking').\n",
    "        \"\"\"\n",
    "        self.data = data\n",
    "        self.method = method\n",
    "        self.blocks = None\n",
    "        self.num_blocks = 0\n",
    "\n",
    "    def build_blocks(self, window_size=None, columns=None, block_index=1):\n",
    "        \"\"\"\n",
    "        Main function to build blocks using the selected method.\n",
    "        :param window_size: Window size for sorted neighborhood method.\n",
    "        :param columns: List of columns to generate the sorting key (for sorted neighborhood) or blocking key (for standard blocking).\n",
    "        :param block_index: Index of the block to display (optional).\n",
    "        :return: A specific block based on block_index.\n",
    "        \"\"\"\n",
    "        # Ensure the required columns and parameters are provided\n",
    "        if columns is None:\n",
    "            raise ValueError(\"You must specify the columns for generating sorting or blocking keys.\")\n",
    "        \n",
    "        # Step 1: Perform block building based on the method selected\n",
    "        if self.method == 'sorted_neighborhood':\n",
    "            if window_size is None:\n",
    "                raise ValueError(\"Window size must be provided for the sorted neighborhood method.\")\n",
    "            self.sorted_neighborhood(window_size, columns)\n",
    "        elif self.method == 'standard_blocking':\n",
    "            self.standard_blocking(columns)\n",
    "        else:\n",
    "            raise ValueError(\"Invalid method. Use 'sorted_neighborhood' or 'standard_blocking'.\")\n",
    "\n",
    "        # Optional Step 2: Display a specific block (e.g., block_index)\n",
    "        return self.display_block(block_index)\n",
    "\n",
    "    def sorted_neighborhood(self, window_size, columns):\n",
    "        \"\"\"\n",
    "        Build blocks using the Sorted Neighborhood Method (SNM).\n",
    "        :param window_size: The size of the sliding window.\n",
    "        :param columns: List of columns to generate the sorting key.\n",
    "        \"\"\"\n",
    "        # Step 1: Ensure all columns are cast to strings before concatenation\n",
    "        self.blocks = self.data.clone()\n",
    "\n",
    "        # Step 2: Use map_elements to concatenate the columns and generate the sorting key\n",
    "        self.blocks = self.blocks.with_columns(\n",
    "            pl.struct(columns).map_elements(lambda x: \" \".join([str(v) for v in x]), return_dtype=pl.Utf8).alias('sorting_key')\n",
    "        )\n",
    "\n",
    "        # Step 3: Sort records by sorting key (SKV)\n",
    "        self.blocks = self.blocks.sort('sorting_key')\n",
    "\n",
    "        # Step 4: Generate block IDs with correct length\n",
    "        num_rows = self.blocks.height\n",
    "        block_ids = [i // window_size + 1 for i in range(num_rows)]\n",
    "\n",
    "        # Assign block IDs to the records\n",
    "        self.blocks = self.blocks.with_columns([pl.Series('block_id', block_ids)])\n",
    "\n",
    "        # Update the number of blocks\n",
    "        self.num_blocks = len(set(block_ids))\n",
    "\n",
    "\n",
    "    def standard_blocking(self, columns: list):\n",
    "        \"\"\"\n",
    "        Perform standard blocking on the data using the specified columns.\n",
    "        Group the data by unique values in the specified columns and assign block IDs.\n",
    "        \n",
    "        :param columns: List of column names to group by for blocking.\n",
    "        :return: DataFrame with block_id and blocking_index columns added.\n",
    "        \"\"\"\n",
    "        \n",
    "        # Step 1: Create a distinct DataFrame with unique combinations of the grouping columns\n",
    "        distinct_groups = self.data.select(columns).unique()\n",
    "        \n",
    "        # Step 2: Assign a unique block_id and create blocking_index for each group\n",
    "        distinct_groups = distinct_groups.with_row_index(\"block_id\")  # Assign block IDs\n",
    "        distinct_groups = distinct_groups.with_columns([\n",
    "            pl.concat_list([pl.col(col) for col in columns]).alias(\"blocking_index\")\n",
    "        ])\n",
    "        \n",
    "        self.blocks = self.data.join(distinct_groups, on=columns, how='left').sort('block_id')\n",
    "        \n",
    "\n",
    "    def display_block(self, block_index=1):\n",
    "        \"\"\"\n",
    "        Display a specific block by block_id.\n",
    "        :param block_index: The index of the block to display.\n",
    "        :return: DataFrame containing the specified block.\n",
    "        \"\"\"\n",
    "        if self.blocks is None:\n",
    "            raise ValueError(\"No blocks have been generated. Run block building first.\")\n",
    "        \n",
    "        return self.blocks.filter(pl.col('block_id') == block_index)\n",
    "    \n",
    "    def get_blocks(self):\n",
    "        \"\"\"\n",
    "        Return all generated blocks.\n",
    "        :return: DataFrame containing all blocks.\n",
    "        \"\"\"\n",
    "        if self.blocks is None:\n",
    "            raise ValueError(\"No blocks have been generated. Run block building first.\")\n",
    "        \n",
    "        return self.blocks\n"
   ],
   "metadata": {
    "collapsed": false,
    "ExecuteTime": {
     "end_time": "2024-10-13T11:29:20.159088800Z",
     "start_time": "2024-10-13T11:29:20.146087700Z"
    }
   },
   "id": "6cab97e8478f7555"
  },
  {
   "cell_type": "code",
   "execution_count": 71,
   "outputs": [
    {
     "data": {
      "text/plain": "shape: (9, 7)\n┌───────────┬───────────────────┬───────────────┬──────────────┬─────┬──────────┬──────────────────┐\n│ user_id   ┆ game_name         ┆ purchase_play ┆ hours_played ┆ 0   ┆ block_id ┆ blocking_index   │\n│ ---       ┆ ---               ┆ ---           ┆ ---          ┆ --- ┆ ---      ┆ ---              │\n│ i64       ┆ str               ┆ str           ┆ f64          ┆ i64 ┆ u32      ┆ list[str]        │\n╞═══════════╪═══════════════════╪═══════════════╪══════════════╪═════╪══════════╪══════════════════╡\n│ 69009454  ┆ the book of       ┆ play          ┆ 0.3          ┆ 0   ┆ 667      ┆ [\"the book of    │\n│           ┆ unwritten tales   ┆               ┆              ┆     ┆          ┆ unwritten        │\n│           ┆                   ┆               ┆              ┆     ┆          ┆ tales\"…          │\n│ 32467994  ┆ the book of       ┆ play          ┆ 38.0         ┆ 0   ┆ 667      ┆ [\"the book of    │\n│           ┆ unwritten tales   ┆               ┆              ┆     ┆          ┆ unwritten        │\n│           ┆                   ┆               ┆              ┆     ┆          ┆ tales\"…          │\n│ 31669242  ┆ the book of       ┆ play          ┆ 3.2          ┆ 0   ┆ 667      ┆ [\"the book of    │\n│           ┆ unwritten tales   ┆               ┆              ┆     ┆          ┆ unwritten        │\n│           ┆                   ┆               ┆              ┆     ┆          ┆ tales\"…          │\n│ 42657809  ┆ the book of       ┆ play          ┆ 10.3         ┆ 0   ┆ 667      ┆ [\"the book of    │\n│           ┆ unwritten tales   ┆               ┆              ┆     ┆          ┆ unwritten        │\n│           ┆                   ┆               ┆              ┆     ┆          ┆ tales\"…          │\n│ 11373749  ┆ the book of       ┆ play          ┆ 15.4         ┆ 0   ┆ 667      ┆ [\"the book of    │\n│           ┆ unwritten tales   ┆               ┆              ┆     ┆          ┆ unwritten        │\n│           ┆                   ┆               ┆              ┆     ┆          ┆ tales\"…          │\n│ 124437057 ┆ the book of       ┆ play          ┆ 21.0         ┆ 0   ┆ 667      ┆ [\"the book of    │\n│           ┆ unwritten tales   ┆               ┆              ┆     ┆          ┆ unwritten        │\n│           ┆                   ┆               ┆              ┆     ┆          ┆ tales\"…          │\n│ 156379077 ┆ the book of       ┆ play          ┆ 0.5          ┆ 0   ┆ 667      ┆ [\"the book of    │\n│           ┆ unwritten tales   ┆               ┆              ┆     ┆          ┆ unwritten        │\n│           ┆                   ┆               ┆              ┆     ┆          ┆ tales\"…          │\n│ 23225650  ┆ the book of       ┆ play          ┆ 0.6          ┆ 0   ┆ 667      ┆ [\"the book of    │\n│           ┆ unwritten tales   ┆               ┆              ┆     ┆          ┆ unwritten        │\n│           ┆                   ┆               ┆              ┆     ┆          ┆ tales\"…          │\n│ 84455820  ┆ the book of       ┆ play          ┆ 0.3          ┆ 0   ┆ 667      ┆ [\"the book of    │\n│           ┆ unwritten tales   ┆               ┆              ┆     ┆          ┆ unwritten        │\n│           ┆                   ┆               ┆              ┆     ┆          ┆ tales\"…          │\n└───────────┴───────────────────┴───────────────┴──────────────┴─────┴──────────┴──────────────────┘",
      "text/html": "<div><style>\n.dataframe > thead > tr,\n.dataframe > tbody > tr {\n  text-align: right;\n  white-space: pre-wrap;\n}\n</style>\n<small>shape: (9, 7)</small><table border=\"1\" class=\"dataframe\"><thead><tr><th>user_id</th><th>game_name</th><th>purchase_play</th><th>hours_played</th><th>0</th><th>block_id</th><th>blocking_index</th></tr><tr><td>i64</td><td>str</td><td>str</td><td>f64</td><td>i64</td><td>u32</td><td>list[str]</td></tr></thead><tbody><tr><td>69009454</td><td>&quot;the book of unwritten tales&quot;</td><td>&quot;play&quot;</td><td>0.3</td><td>0</td><td>667</td><td>[&quot;the book of unwritten tales&quot;, &quot;play&quot;]</td></tr><tr><td>32467994</td><td>&quot;the book of unwritten tales&quot;</td><td>&quot;play&quot;</td><td>38.0</td><td>0</td><td>667</td><td>[&quot;the book of unwritten tales&quot;, &quot;play&quot;]</td></tr><tr><td>31669242</td><td>&quot;the book of unwritten tales&quot;</td><td>&quot;play&quot;</td><td>3.2</td><td>0</td><td>667</td><td>[&quot;the book of unwritten tales&quot;, &quot;play&quot;]</td></tr><tr><td>42657809</td><td>&quot;the book of unwritten tales&quot;</td><td>&quot;play&quot;</td><td>10.3</td><td>0</td><td>667</td><td>[&quot;the book of unwritten tales&quot;, &quot;play&quot;]</td></tr><tr><td>11373749</td><td>&quot;the book of unwritten tales&quot;</td><td>&quot;play&quot;</td><td>15.4</td><td>0</td><td>667</td><td>[&quot;the book of unwritten tales&quot;, &quot;play&quot;]</td></tr><tr><td>124437057</td><td>&quot;the book of unwritten tales&quot;</td><td>&quot;play&quot;</td><td>21.0</td><td>0</td><td>667</td><td>[&quot;the book of unwritten tales&quot;, &quot;play&quot;]</td></tr><tr><td>156379077</td><td>&quot;the book of unwritten tales&quot;</td><td>&quot;play&quot;</td><td>0.5</td><td>0</td><td>667</td><td>[&quot;the book of unwritten tales&quot;, &quot;play&quot;]</td></tr><tr><td>23225650</td><td>&quot;the book of unwritten tales&quot;</td><td>&quot;play&quot;</td><td>0.6</td><td>0</td><td>667</td><td>[&quot;the book of unwritten tales&quot;, &quot;play&quot;]</td></tr><tr><td>84455820</td><td>&quot;the book of unwritten tales&quot;</td><td>&quot;play&quot;</td><td>0.3</td><td>0</td><td>667</td><td>[&quot;the book of unwritten tales&quot;, &quot;play&quot;]</td></tr></tbody></table></div>"
     },
     "execution_count": 71,
     "metadata": {},
     "output_type": "execute_result"
    }
   ],
   "source": [
    "block_builder = BlockBuilding(data, method='standard_blocking')\n",
    "blocks = block_builder.build_blocks(window_size=10, columns=['game_name', 'purchase_play'])\n",
    "all_blocks = block_builder.get_blocks()\n",
    "all_blocks\n",
    "block_builder.display_block(667)"
   ],
   "metadata": {
    "collapsed": false,
    "ExecuteTime": {
     "end_time": "2024-10-13T11:32:45.644761600Z",
     "start_time": "2024-10-13T11:32:45.472026700Z"
    }
   },
   "id": "24f8ec76ab09fd99"
  },
  {
   "cell_type": "markdown",
   "source": [
    "# Comparison cleaning\n",
    "### Tu zrobimy porównania oparte o prawdopodobieństwie na danych kolumnach, np. fuzzy string matching, jakieś grafy prawdopodobieństwa, idk"
   ],
   "metadata": {
    "collapsed": false
   },
   "id": "19a7f97669de5dd8"
  },
  {
   "cell_type": "code",
   "execution_count": null,
   "outputs": [],
   "source": [],
   "metadata": {
    "collapsed": false,
    "ExecuteTime": {
     "start_time": "2024-10-12T14:55:38.615824100Z"
    }
   },
   "id": "5d941c21a7e037b8"
  }
 ],
 "metadata": {
  "kernelspec": {
   "display_name": "Python 3",
   "language": "python",
   "name": "python3"
  },
  "language_info": {
   "codemirror_mode": {
    "name": "ipython",
    "version": 2
   },
   "file_extension": ".py",
   "mimetype": "text/x-python",
   "name": "python",
   "nbconvert_exporter": "python",
   "pygments_lexer": "ipython2",
   "version": "2.7.6"
  }
 },
 "nbformat": 4,
 "nbformat_minor": 5
}
